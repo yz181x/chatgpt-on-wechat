{
 "cells": [
  {
   "cell_type": "code",
   "execution_count": 2,
   "metadata": {},
   "outputs": [],
   "source": [
    "import re\n",
    "\n",
    "def extract_elements(s):\n",
    "    pattern = r'^(.*?):\\[(.*?)\\](.*?)」\\n-.*-\\n(.*)$'\n",
    "    match = re.match(pattern, s, re.DOTALL)\n",
    "    if match:\n",
    "        nickname = match.group(1)\n",
    "        link_type = match.group(2)\n",
    "        title = match.group(3).strip()\n",
    "        query = match.group(4).strip()\n",
    "        return nickname, link_type, title, query\n",
    "    else:\n",
    "        return None\n",
    "\n",
    "s = '楊喆：[链接]听说这届年轻人早就开始存钱了？」\\n- - - - - - - - - - - - - - -\\n这篇文章的主要内容是什么？'\n",
    "result = extract_elements(s)\n",
    "\n",
    "# 保存结果并打印\n",
    "result\n",
    "\n"
   ]
  },
  {
   "cell_type": "code",
   "execution_count": null,
   "metadata": {},
   "outputs": [],
   "source": []
  }
 ],
 "metadata": {
  "kernelspec": {
   "display_name": "venv",
   "language": "python",
   "name": "python3"
  },
  "language_info": {
   "codemirror_mode": {
    "name": "ipython",
    "version": 3
   },
   "file_extension": ".py",
   "mimetype": "text/x-python",
   "name": "python",
   "nbconvert_exporter": "python",
   "pygments_lexer": "ipython3",
   "version": "3.8.10"
  }
 },
 "nbformat": 4,
 "nbformat_minor": 2
}
